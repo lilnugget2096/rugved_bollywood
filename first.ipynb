{
 "cells": [
  {
   "cell_type": "code",
   "execution_count": 206,
   "metadata": {},
   "outputs": [],
   "source": [
    "import pandas as pd \n",
    "import numpy as np\n",
    "import matplotlib.pyplot as plt\n",
    "import seaborn as sb"
   ]
  },
  {
   "cell_type": "code",
   "execution_count": 197,
   "metadata": {},
   "outputs": [
    {
     "name": "stdout",
     "output_type": "stream",
     "text": [
      "N     99\n",
      "HS    18\n",
      "FS    17\n",
      "LW    15\n",
      "Name: ReleaseTime, dtype: int64\n"
     ]
    }
   ],
   "source": [
    "data=pd.read_csv('///home/kunal/Downloads/bollywood-1.csv')\n",
    "data.drop_duplicates(subset='ReleaseTime')\n",
    "replacedata={\n",
    "    \"LW\":\"1\",\n",
    "    \"N\":\"2\",\n",
    "    \"HS\":\"3\",\n",
    "    \"FS\":\"4\"\n",
    "}\n",
    "#data= data.replace({\"ReleaseTime\": replacedata})\n",
    "frequency = data['ReleaseTime'].value_counts()\n",
    "frequency.sort_values(ascending=False)\n",
    "print(frequency)"
   ]
  },
  {
   "cell_type": "code",
   "execution_count": 198,
   "metadata": {},
   "outputs": [
    {
     "name": "stdout",
     "output_type": "stream",
     "text": [
      "     SlNo Release Date                    MovieName ReleaseTime      Genre  \\\n",
      "0       1    18-Apr-14                     2 States          LW    Romance   \n",
      "1       2     4-Jan-13                 Table No. 21           N  Thriller    \n",
      "2       3    18-Jul-14           Amit Sahni Ki List           N     Comedy   \n",
      "3       4     4-Jan-13             Rajdhani Express           N     Drama    \n",
      "4       5     4-Jul-14                 Bobby Jasoos           N     Comedy   \n",
      "..    ...          ...                          ...         ...        ...   \n",
      "144   145    27-Feb-15           Dum Laga Ke Haisha           N     Comedy   \n",
      "145   146    13-Mar-15                         NH10           N   Thriller   \n",
      "146   147    20-Mar-15  Dilliwali Zaalim Girlfriend           N     Comedy   \n",
      "147   148    20-Mar-15                     Hunterrr           N     Comedy   \n",
      "148   149    23-May-14                Kochadaiiyaan          HS     Action   \n",
      "\n",
      "     Budget  BoxOfficeCollection  YoutubeViews  YoutubeLikes  YoutubeDislikes  \n",
      "0        36               104.00       8576361         26622             2527  \n",
      "1        10                12.00       1087320          1129              137  \n",
      "2        10                 4.00        572336           586               54  \n",
      "3         7                 0.35         42626            86               19  \n",
      "4        18                10.80       3113427          4512             1224  \n",
      "..      ...                  ...           ...           ...              ...  \n",
      "144      15                30.00       3250917          8185              615  \n",
      "145      13                32.10       5592977         15464             1513  \n",
      "146      32                12.00       2316047          4289              807  \n",
      "147       5                11.89       4674795          3706              762  \n",
      "148     150               120.00       4740727         13466             2649  \n",
      "\n",
      "[149 rows x 10 columns]\n"
     ]
    }
   ],
   "source": [
    "print(data)"
   ]
  },
  {
   "cell_type": "code",
   "execution_count": 199,
   "metadata": {},
   "outputs": [
    {
     "name": "stdout",
     "output_type": "stream",
     "text": [
      " Drama \n"
     ]
    }
   ],
   "source": [
    "max= data.loc[(data['ReleaseTime']==\"FS\")].groupby(\"Genre\").size()\n",
    "print(max.idxmax())"
   ]
  },
  {
   "cell_type": "code",
   "execution_count": 200,
   "metadata": {},
   "outputs": [
    {
     "data": {
      "text/html": [
       "<div>\n",
       "<style scoped>\n",
       "    .dataframe tbody tr th:only-of-type {\n",
       "        vertical-align: middle;\n",
       "    }\n",
       "\n",
       "    .dataframe tbody tr th {\n",
       "        vertical-align: top;\n",
       "    }\n",
       "\n",
       "    .dataframe thead th {\n",
       "        text-align: right;\n",
       "    }\n",
       "</style>\n",
       "<table border=\"1\" class=\"dataframe\">\n",
       "  <thead>\n",
       "    <tr style=\"text-align: right;\">\n",
       "      <th></th>\n",
       "      <th></th>\n",
       "      <th>ReleaseTime</th>\n",
       "      <th>Genre</th>\n",
       "    </tr>\n",
       "    <tr>\n",
       "      <th>ReleaseTime</th>\n",
       "      <th>Genre</th>\n",
       "      <th></th>\n",
       "      <th></th>\n",
       "    </tr>\n",
       "  </thead>\n",
       "  <tbody>\n",
       "    <tr>\n",
       "      <th rowspan=\"5\" valign=\"top\">FS</th>\n",
       "      <th>Drama</th>\n",
       "      <td>4</td>\n",
       "      <td>4</td>\n",
       "    </tr>\n",
       "    <tr>\n",
       "      <th>Action</th>\n",
       "      <td>3</td>\n",
       "      <td>3</td>\n",
       "    </tr>\n",
       "    <tr>\n",
       "      <th>Comedy</th>\n",
       "      <td>3</td>\n",
       "      <td>3</td>\n",
       "    </tr>\n",
       "    <tr>\n",
       "      <th>Romance</th>\n",
       "      <td>3</td>\n",
       "      <td>3</td>\n",
       "    </tr>\n",
       "    <tr>\n",
       "      <th>Thriller</th>\n",
       "      <td>4</td>\n",
       "      <td>4</td>\n",
       "    </tr>\n",
       "    <tr>\n",
       "      <th rowspan=\"5\" valign=\"top\">HS</th>\n",
       "      <th>Drama</th>\n",
       "      <td>6</td>\n",
       "      <td>6</td>\n",
       "    </tr>\n",
       "    <tr>\n",
       "      <th>Action</th>\n",
       "      <td>3</td>\n",
       "      <td>3</td>\n",
       "    </tr>\n",
       "    <tr>\n",
       "      <th>Comedy</th>\n",
       "      <td>5</td>\n",
       "      <td>5</td>\n",
       "    </tr>\n",
       "    <tr>\n",
       "      <th>Romance</th>\n",
       "      <td>3</td>\n",
       "      <td>3</td>\n",
       "    </tr>\n",
       "    <tr>\n",
       "      <th>Thriller</th>\n",
       "      <td>1</td>\n",
       "      <td>1</td>\n",
       "    </tr>\n",
       "    <tr>\n",
       "      <th rowspan=\"6\" valign=\"top\">LW</th>\n",
       "      <th>Drama</th>\n",
       "      <td>1</td>\n",
       "      <td>1</td>\n",
       "    </tr>\n",
       "    <tr>\n",
       "      <th>Action</th>\n",
       "      <td>3</td>\n",
       "      <td>3</td>\n",
       "    </tr>\n",
       "    <tr>\n",
       "      <th>Comedy</th>\n",
       "      <td>5</td>\n",
       "      <td>5</td>\n",
       "    </tr>\n",
       "    <tr>\n",
       "      <th>Romance</th>\n",
       "      <td>4</td>\n",
       "      <td>4</td>\n",
       "    </tr>\n",
       "    <tr>\n",
       "      <th>Thriller</th>\n",
       "      <td>1</td>\n",
       "      <td>1</td>\n",
       "    </tr>\n",
       "    <tr>\n",
       "      <th>Thriller</th>\n",
       "      <td>1</td>\n",
       "      <td>1</td>\n",
       "    </tr>\n",
       "    <tr>\n",
       "      <th rowspan=\"7\" valign=\"top\">N</th>\n",
       "      <th>Drama</th>\n",
       "      <td>24</td>\n",
       "      <td>24</td>\n",
       "    </tr>\n",
       "    <tr>\n",
       "      <th>Action</th>\n",
       "      <td>12</td>\n",
       "      <td>12</td>\n",
       "    </tr>\n",
       "    <tr>\n",
       "      <th>Action</th>\n",
       "      <td>3</td>\n",
       "      <td>3</td>\n",
       "    </tr>\n",
       "    <tr>\n",
       "      <th>Comedy</th>\n",
       "      <td>23</td>\n",
       "      <td>23</td>\n",
       "    </tr>\n",
       "    <tr>\n",
       "      <th>Romance</th>\n",
       "      <td>15</td>\n",
       "      <td>15</td>\n",
       "    </tr>\n",
       "    <tr>\n",
       "      <th>Thriller</th>\n",
       "      <td>20</td>\n",
       "      <td>20</td>\n",
       "    </tr>\n",
       "    <tr>\n",
       "      <th>Thriller</th>\n",
       "      <td>2</td>\n",
       "      <td>2</td>\n",
       "    </tr>\n",
       "  </tbody>\n",
       "</table>\n",
       "</div>"
      ],
      "text/plain": [
       "                       ReleaseTime  Genre\n",
       "ReleaseTime Genre                        \n",
       "FS           Drama               4      4\n",
       "            Action               3      3\n",
       "            Comedy               3      3\n",
       "            Romance              3      3\n",
       "            Thriller             4      4\n",
       "HS           Drama               6      6\n",
       "            Action               3      3\n",
       "            Comedy               5      5\n",
       "            Romance              3      3\n",
       "            Thriller             1      1\n",
       "LW           Drama               1      1\n",
       "            Action               3      3\n",
       "            Comedy               5      5\n",
       "            Romance              4      4\n",
       "            Thriller             1      1\n",
       "            Thriller             1      1\n",
       "N            Drama              24     24\n",
       "            Action              12     12\n",
       "            Action               3      3\n",
       "            Comedy              23     23\n",
       "            Romance             15     15\n",
       "            Thriller            20     20\n",
       "            Thriller             2      2"
      ]
     },
     "execution_count": 200,
     "metadata": {},
     "output_type": "execute_result"
    }
   ],
   "source": [
    "cols = ['ReleaseTime', 'Genre']\n",
    "data.groupby(cols)[cols].count()"
   ]
  },
  {
   "cell_type": "code",
   "execution_count": 214,
   "metadata": {},
   "outputs": [
    {
     "name": "stdout",
     "output_type": "stream",
     "text": [
      "2014    70\n",
      "2013    67\n",
      "2015    12\n",
      "Name: year, dtype: int64\n"
     ]
    }
   ],
   "source": [
    "data['year'] = pd.DatetimeIndex(data['Release Date']).year\n",
    "frequency = data['year'].value_counts()\n",
    "print(frequency)"
   ]
  },
  {
   "cell_type": "code",
   "execution_count": 202,
   "metadata": {},
   "outputs": [
    {
     "name": "stdout",
     "output_type": "stream",
     "text": [
      "2\n"
     ]
    }
   ],
   "source": [
    "data['month'] = pd.DatetimeIndex(data['Release Date']).month\n",
    "money= data.loc[(data['Budget']>=30)].groupby(\"month\").size().sort_values(ascending=False)\n",
    "print(money.idxmax())\n"
   ]
  },
  {
   "cell_type": "code",
   "execution_count": 203,
   "metadata": {},
   "outputs": [
    {
     "name": "stdout",
     "output_type": "stream",
     "text": [
      "LW\n"
     ]
    }
   ],
   "source": [
    "data['roi']=(data['BoxOfficeCollection']-data['Budget'])/data['Budget']\n",
    "rich=data.groupby(\"ReleaseTime\")\n",
    "m=rich['roi'].mean().sort_values(ascending=False)\n",
    "print(m.idxmax())"
   ]
  },
  {
   "cell_type": "code",
   "execution_count": 204,
   "metadata": {},
   "outputs": [
    {
     "name": "stdout",
     "output_type": "stream",
     "text": [
      "0.6825165877731297\n"
     ]
    }
   ],
   "source": [
    "rel= data[\"BoxOfficeCollection\"]. corr(data[\"YoutubeLikes\"])\n",
    "print(rel)"
   ]
  },
  {
   "cell_type": "code",
   "execution_count": 205,
   "metadata": {},
   "outputs": [
    {
     "data": {
      "text/plain": [
       "<AxesSubplot:title={'center':'YoutubeViews'}, xlabel='Genre'>"
      ]
     },
     "execution_count": 205,
     "metadata": {},
     "output_type": "execute_result"
    },
    {
     "data": {
      "image/png": "[encoded data removed]",
      "text/plain": [
       "<Figure size 432x288 with 1 Axes>"
      ]
     },
     "metadata": {
      "needs_background": "light"
     },
     "output_type": "display_data"
    }
   ],
   "source": [
    "data.boxplot(by ='Genre', column =['YoutubeViews'], grid = True)"
   ]
  },
  {
   "cell_type": "code",
   "execution_count": 207,
   "metadata": {},
   "outputs": [
    {
     "data": {
      "text/plain": [
       "[]"
      ]
     },
     "execution_count": 207,
     "metadata": {},
     "output_type": "execute_result"
    },
    {
     "data": {
      "image/png": "[encoded data removed]",
      "text/plain": [
       "<Figure size 432x288 with 2 Axes>"
      ]
     },
     "metadata": {
      "needs_background": "light"
     },
     "output_type": "display_data"
    }
   ],
   "source": [
    "heatmap= sb.heatmap(data[['Budget', 'BoxOfficeCollection', 'YoutubeViews', 'YoutubeLikes', 'YoutubeDislikes']].corr(), cmap=\"YlGnBu\", annot=True)\n",
    "heatmap.plot()"
   ]
  },
  {
   "cell_type": "code",
   "execution_count": 216,
   "metadata": {},
   "outputs": [
    {
     "data": {
      "text/plain": [
       "[<matplotlib.lines.Line2D at 0x7fb0aab12430>]"
      ]
     },
     "execution_count": 216,
     "metadata": {},
     "output_type": "execute_result"
    },
    {
     "data": {
      "image/png": "[encoded data removed]",
      "text/plain": [
       "<Figure size 432x288 with 1 Axes>"
      ]
     },
     "metadata": {
      "needs_background": "light"
     },
     "output_type": "display_data"
    }
   ],
   "source": [
    "f= data.groupby(\"Genre\")\n",
    "g = f['BoxOfficeCollection'].sum().reset_index(name='boc')\n",
    "x=g['boc']\n",
    "y= g.index\n",
    "m, b = np.polyfit(x, y, 1)\n",
    "plt.plot(x, m*x + b)"
   ]
  },
  {
   "cell_type": "code",
   "execution_count": 217,
   "metadata": {},
   "outputs": [
    {
     "data": {
      "text/plain": [
       "[<matplotlib.lines.Line2D at 0x7fb0aaa6fb20>]"
      ]
     },
     "execution_count": 217,
     "metadata": {},
     "output_type": "execute_result"
    },
    {
     "data": {
      "image/png": "[encoded data removed]",
      "text/plain": [
       "<Figure size 432x288 with 1 Axes>"
      ]
     },
     "metadata": {
      "needs_background": "light"
     },
     "output_type": "display_data"
    }
   ],
   "source": [
    "c = data.groupby(\"year\")\n",
    "d = c.size().reset_index(name=\"MoviesCount\")\n",
    "\n",
    "x=d['year']\n",
    "y=d['MoviesCount']\n",
    "m, b = np.polyfit(x, y, 1)\n",
    "plt.plot(x, m*x + b)"
   ]
  },
  {
   "cell_type": "code",
   "execution_count": 213,
   "metadata": {},
   "outputs": [
    {
     "data": {
      "text/plain": [
       "<BarContainer object of 7 artists>"
      ]
     },
     "execution_count": 213,
     "metadata": {},
     "output_type": "execute_result"
    },
    {
     "data": {
      "image/png": "[encoded data removed]",
      "text/plain": [
       "<Figure size 432x288 with 1 Axes>"
      ]
     },
     "metadata": {
      "needs_background": "light"
     },
     "output_type": "display_data"
    }
   ],
   "source": [
    "c = data.groupby(\"Genre\")\n",
    "d = c['BoxOfficeCollection'].sum().reset_index(name='boc')\n",
    "x = d[\"Genre\"]\n",
    "y = d[\"boc\"]\n",
    "plt.bar(x,y,color = \"red\", width = 0.2)"
   ]
  },
  {
   "cell_type": "code",
   "execution_count": 218,
   "metadata": {},
   "outputs": [
    {
     "data": {
      "image/png": "[encoded data removed]",
      "text/plain": [
       "<Figure size 432x288 with 1 Axes>"
      ]
     },
     "metadata": {
      "needs_background": "light"
     },
     "output_type": "display_data"
    }
   ],
   "source": [
    "c = data.groupby(\"year\")\n",
    "d = c['YoutubeLikes'].sum().reset_index(name='tot')\n",
    "y=d['tot']\n",
    "x= d.year\n",
    "plt.scatter(x, y)\n",
    "m, b = np.polyfit(x, y, 1)\n",
    "plt.plot(x, m*x + b,color = 'r',linewidth = '2.5')\n",
    "\n",
    "\n",
    "d = c['YoutubeDislikes'].sum().reset_index(name='totd')\n",
    "z=d['totd']\n",
    "plt.scatter(x, z)\n",
    "m, b = np.polyfit(x, z, 1)"
   ]
  }
 ],
 "metadata": {
  "interpreter": {
   "hash": "916dbcbb3f70747c44a77c7bcd40155683ae19c65e1c03b4aa3499c5328201f1"
  },
  "kernelspec": {
   "display_name": "Python 3.9.5 64-bit",
   "language": "python",
   "name": "python3"
  },
  "language_info": {
   "codemirror_mode": {
    "name": "ipython",
    "version": 3
   },
   "file_extension": ".py",
   "mimetype": "text/x-python",
   "name": "python",
   "nbconvert_exporter": "python",
   "pygments_lexer": "ipython3",
   "version": "3.9.5"
  },
  "orig_nbformat": 4
 },
 "nbformat": 4,
 "nbformat_minor": 2
}
